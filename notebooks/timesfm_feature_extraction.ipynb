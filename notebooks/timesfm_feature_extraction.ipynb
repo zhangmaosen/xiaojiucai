{
 "cells": [
  {
   "cell_type": "markdown",
   "id": "29c402b3",
   "metadata": {},
   "source": [
    "# 使用TimesFM作为特征提取器\n",
    "\n",
    "本笔记本演示了如何使用 `timesfm.TimesFM_2p5_200M_torch()` 预训练模型从时间序列数据中提取特征。"
   ]
  },
  {
   "cell_type": "code",
   "execution_count": 9,
   "id": "fa00d64e",
   "metadata": {},
   "outputs": [
    {
     "name": "stdout",
     "output_type": "stream",
     "text": [
      "Using device: cuda\n"
     ]
    }
   ],
   "source": [
    "import torch\n",
    "import timesfm\n",
    "import numpy as np\n",
    "import pandas as pd\n",
    "import os\n",
    "import sys\n",
    "\n",
    "# Add project root to Python path\n",
    "sys.path.insert(0, os.path.abspath(os.path.join(os.getcwd(), '..')))\n",
    "\n",
    "# Check device\n",
    "device = torch.device('cuda' if torch.cuda.is_available() else 'cpu')\n",
    "print(f\"Using device: {device}\")"
   ]
  },
  {
   "cell_type": "markdown",
   "id": "57f2b87a",
   "metadata": {},
   "source": [
    "## 1. 加载TimesFM模型"
   ]
  },
  {
   "cell_type": "code",
   "execution_count": 10,
   "id": "95cf19ff",
   "metadata": {},
   "outputs": [
    {
     "name": "stderr",
     "output_type": "stream",
     "text": [
      "/home/userroot/.local/lib/python3.10/site-packages/tqdm/auto.py:21: TqdmWarning: IProgress not found. Please update jupyter and ipywidgets. See https://ipywidgets.readthedocs.io/en/stable/user_install.html\n",
      "  from .autonotebook import tqdm as notebook_tqdm\n",
      "Fetching 4 files: 100%|██████████| 4/4 [00:00<00:00, 19152.07it/s]\n",
      "\n"
     ]
    }
   ],
   "source": [
    "# 加载TimesFM模型\n",
    "tfm = timesfm.TimesFM_2p5_200M_torch()\n",
    "tfm.load_checkpoint()\n",
    "tfm.compile(\n",
    "    timesfm.ForecastConfig(\n",
    "        max_context=1024,\n",
    "        max_horizon=256,\n",
    "        normalize_inputs=True,\n",
    "        use_continuous_quantile_head=True,\n",
    "        force_flip_invariance=True,\n",
    "        infer_is_positive=True,\n",
    "        fix_quantile_crossing=True,\n",
    "    )\n",
    ")"
   ]
  },
  {
   "cell_type": "markdown",
   "id": "f5c3879c",
   "metadata": {},
   "source": [
    "## 2. 准备示例数据\n",
    "\n",
    "为了演示特征提取，我们创建一些合成的时间序列数据。TimesFM期望的输入格式是一个包含多个`numpy`数组的列表，其中每个数组代表一个时间序列。"
   ]
  },
  {
   "cell_type": "code",
   "execution_count": 11,
   "id": "56e12cd6",
   "metadata": {},
   "outputs": [
    {
     "name": "stdout",
     "output_type": "stream",
     "text": [
      "创建测试数据...\n",
      "输入数据包含 2 个时间序列\n",
      "第一个序列长度: 100\n",
      "第二个序列长度: 67\n"
     ]
    }
   ],
   "source": [
    "# 准备示例数据\n",
    "print(\"创建测试数据...\")\n",
    "\n",
    "# 创建测试时间序列数据\n",
    "test_inputs = [\n",
    "    np.linspace(0, 1, 100),\n",
    "    np.sin(np.linspace(0, 20, 67)),\n",
    "]\n",
    "\n",
    "print(f\"输入数据包含 {len(test_inputs)} 个时间序列\")\n",
    "print(f\"第一个序列长度: {len(test_inputs[0])}\")\n",
    "print(f\"第二个序列长度: {len(test_inputs[1])}\")"
   ]
  },
  {
   "cell_type": "markdown",
   "id": "384b32af",
   "metadata": {},
   "source": [
    "## 3. 使用TimesFM进行预测（特征提取）\n",
    "\n",
    "使用TimesFM模型对时间序列进行预测，这也可以看作是从时间序列中提取特征的过程。"
   ]
  },
  {
   "cell_type": "code",
   "execution_count": 12,
   "id": "74be212c",
   "metadata": {},
   "outputs": [
    {
     "name": "stdout",
     "output_type": "stream",
     "text": [
      "使用TimesFM进行预测...\n"
     ]
    }
   ],
   "source": [
    "# 使用TimesFM进行预测\n",
    "print(\"使用TimesFM进行预测...\")\n",
    "point_forecast, quantile_forecast = tfm.forecast(\n",
    "    horizon=12,\n",
    "    inputs=test_inputs\n",
    ")"
   ]
  },
  {
   "cell_type": "code",
   "execution_count": 13,
   "id": "47b5aa54",
   "metadata": {},
   "outputs": [
    {
     "name": "stdout",
     "output_type": "stream",
     "text": [
      "点预测结果形状: (2, 12)\n",
      "分位数预测结果形状: (2, 12, 10)\n",
      "\n",
      "第一个序列的点预测结果:\n",
      "[1.0127585 1.0188391 1.0272739 1.0430081 1.0479407 1.0591323 1.074695\n",
      " 1.0754818 1.0890968 1.1026995 1.1116321 1.1225954]\n",
      "\n",
      "第二个序列的点预测结果:\n",
      "[ 0.9855348   0.97798806  0.89091337  0.7285633   0.47109857  0.19757876\n",
      " -0.10510507 -0.39542463 -0.631007   -0.8359534  -0.96646345 -1.0037616 ]\n"
     ]
    }
   ],
   "source": [
    "# 查看预测结果\n",
    "print(f\"点预测结果形状: {point_forecast.shape}\")  # (2, 12)\n",
    "print(f\"分位数预测结果形状: {quantile_forecast.shape}\")  # (2, 12, 10): mean, then 10th to 90th quantiles.\n",
    "\n",
    "print(\"\\n第一个序列的点预测结果:\")\n",
    "print(point_forecast[0])\n",
    "\n",
    "print(\"\\n第二个序列的点预测结果:\")\n",
    "print(point_forecast[1])"
   ]
  },
  {
   "cell_type": "markdown",
   "id": "849a13da",
   "metadata": {},
   "source": [
    "## 4. 特征提取说明\n",
    "\n",
    "TimesFM模型的预测结果可以作为时间序列的特征表示。特别是分位数预测结果包含了丰富的统计信息，可以用于下游任务。\n",
    "\n",
    "- 点预测结果形状为 `(n_series, horizon)`\n",
    "- 分位数预测结果形状为 `(n_series, horizon, n_quantiles)`，其中包含均值和10个分位数(10th到90th)\n",
    "\n",
    "这些预测结果可以被展平并用作机器学习模型的输入特征。"
   ]
  },
  {
   "cell_type": "code",
   "execution_count": 14,
   "id": "f671a1a2",
   "metadata": {},
   "outputs": [
    {
     "name": "stdout",
     "output_type": "stream",
     "text": [
      "第一个序列的特征向量长度: 132 (12*11)\n",
      "第二个序列的特征向量长度: 132 (12*11)\n",
      "\n",
      "展平后的特征形状: (2, 132)\n"
     ]
    }
   ],
   "source": [
    "# 将预测结果转换为特征向量\n",
    "# 合并点预测和分位数预测作为特征\n",
    "features = np.concatenate([point_forecast[:, :, np.newaxis], quantile_forecast], axis=2)\n",
    "\n",
    "print(f\"第一个序列的特征向量长度: {features[0].size} ({features.shape[1]}*{features.shape[2]})\")\n",
    "print(f\"第二个序列的特征向量长度: {features[1].size} ({features.shape[1]}*{features.shape[2]})\")\n",
    "\n",
    "# 展平为一维特征向量\n",
    "flattened_features = features.reshape(features.shape[0], -1)\n",
    "print(f\"\\n展平后的特征形状: {flattened_features.shape}\")"
   ]
  }
 ],
 "metadata": {
  "kernelspec": {
   "display_name": "Python 3",
   "language": "python",
   "name": "python3"
  },
  "language_info": {
   "codemirror_mode": {
    "name": "ipython",
    "version": 3
   },
   "file_extension": ".py",
   "mimetype": "text/x-python",
   "name": "python",
   "nbconvert_exporter": "python",
   "pygments_lexer": "ipython3",
   "version": "3.10.12"
  }
 },
 "nbformat": 4,
 "nbformat_minor": 5
}
