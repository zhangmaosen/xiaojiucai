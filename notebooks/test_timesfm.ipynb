{
 "cells": [
  {
   "cell_type": "code",
   "execution_count": 1,
   "id": "e92dfe06",
   "metadata": {},
   "outputs": [
    {
     "name": "stderr",
     "output_type": "stream",
     "text": [
      "/home/userroot/.local/lib/python3.10/site-packages/tqdm/auto.py:21: TqdmWarning: IProgress not found. Please update jupyter and ipywidgets. See https://ipywidgets.readthedocs.io/en/stable/user_install.html\n",
      "  from .autonotebook import tqdm as notebook_tqdm\n",
      "Fetching 4 files: 100%|██████████| 4/4 [04:55<00:00, 73.93s/it]\n"
     ]
    },
    {
     "data": {
      "text/plain": [
       "(2, 12, 10)"
      ]
     },
     "execution_count": 1,
     "metadata": {},
     "output_type": "execute_result"
    }
   ],
   "source": [
    "import numpy as np\n",
    "import timesfm\n",
    "model = timesfm.TimesFM_2p5_200M_torch()\n",
    "model.load_checkpoint()\n",
    "model.compile(\n",
    "    timesfm.ForecastConfig(\n",
    "        max_context=1024,\n",
    "        max_horizon=256,\n",
    "        normalize_inputs=True,\n",
    "        use_continuous_quantile_head=True,\n",
    "        force_flip_invariance=True,\n",
    "        infer_is_positive=True,\n",
    "        fix_quantile_crossing=True,\n",
    "    )\n",
    ")\n",
    "point_forecast, quantile_forecast = model.forecast(\n",
    "    horizon=12,\n",
    "    inputs=[\n",
    "        np.linspace(0, 1, 100),\n",
    "        np.sin(np.linspace(0, 20, 67)),\n",
    "    ],  # Two dummy inputs\n",
    ")\n",
    "point_forecast.shape  # (2, 12)\n",
    "quantile_forecast.shape  # (2, 12, 10): mean, then 10th to 90th quantiles."
   ]
  },
  {
   "cell_type": "code",
   "execution_count": 1,
   "id": "bc33c8c1",
   "metadata": {},
   "outputs": [
    {
     "data": {
      "text/plain": [
       "(2, 12, 10)"
      ]
     },
     "execution_count": 1,
     "metadata": {},
     "output_type": "execute_result"
    }
   ],
   "source": [
    "import numpy as np\n",
    "import timesfm\n",
    "model = timesfm.TimesFM_2p5_200M_torch.from_pretrained(\"google/timesfm-2.5-200m-pytorch\")\n",
    "\n",
    "model.compile(\n",
    "    timesfm.ForecastConfig(\n",
    "        max_context=1024,\n",
    "        max_horizon=256,\n",
    "        normalize_inputs=True,\n",
    "        use_continuous_quantile_head=True,\n",
    "        force_flip_invariance=True,\n",
    "        infer_is_positive=True,\n",
    "        fix_quantile_crossing=True,\n",
    "        per_core_batch_size=64,\n",
    "    )\n",
    ")\n",
    "point_forecast, quantile_forecast = model.forecast(\n",
    "    horizon=12,\n",
    "    inputs=[\n",
    "        np.linspace(0, 1, 100),\n",
    "        np.sin(np.linspace(0, 20, 67)),\n",
    "    ],  # Two dummy inputs\n",
    ")\n",
    "point_forecast.shape  # (2, 12)\n",
    "quantile_forecast.shape  # (2, 12, 10): mean, then 10th to 90th quantiles."
   ]
  }
 ],
 "metadata": {
  "kernelspec": {
   "display_name": "xiaojiucai",
   "language": "python",
   "name": "python3"
  },
  "language_info": {
   "codemirror_mode": {
    "name": "ipython",
    "version": 3
   },
   "file_extension": ".py",
   "mimetype": "text/x-python",
   "name": "python",
   "nbconvert_exporter": "python",
   "pygments_lexer": "ipython3",
   "version": "3.11.13"
  }
 },
 "nbformat": 4,
 "nbformat_minor": 5
}
